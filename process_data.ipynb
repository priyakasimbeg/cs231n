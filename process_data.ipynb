{
 "cells": [
  {
   "cell_type": "code",
   "execution_count": 6,
   "metadata": {},
   "outputs": [],
   "source": [
    "import scipy\n",
    "import os\n",
    "import scipy.io as sio\n",
    "import numpy as np\n",
    "\n",
    "import cv2\n",
    "import matplotlib.pyplot as plt"
   ]
  },
  {
   "cell_type": "code",
   "execution_count": 7,
   "metadata": {},
   "outputs": [],
   "source": [
    "# Paths to data\n",
    "camera_path = \"/Users/priyakasimbeg/Programs/Stanford/CS231N/data/EPID&Camera comparisons/Camera/Matlab\"\n",
    "epid_path = \"/Users/priyakasimbeg/Programs/Stanford/CS231N/data/EPID&Camera comparisons/EPID/Matlab\""
   ]
  },
  {
   "cell_type": "code",
   "execution_count": 10,
   "metadata": {},
   "outputs": [],
   "source": [
    "camera_frame_names = os.listdir(camera_path)\n",
    "epid_frame_names = os.listdir(epid_path)\n",
    "\n",
    "camera_frame_paths = []\n",
    "epid_frame_paths = []\n",
    "\n",
    "for filename in camera_frame_names:\n",
    "    camera_frame_paths.append(os.path.join(camera_path, filename))\n",
    "\n",
    "for filename in epid_frame_names:\n",
    "    epid_frame_paths.append(os.path.join(epid_path, filename)) "
   ]
  },
  {
   "cell_type": "code",
   "execution_count": 33,
   "metadata": {
    "scrolled": true
   },
   "outputs": [],
   "source": [
    "camera_frames = []\n",
    "epid_frames = []\n",
    "\n",
    "i = 0\n",
    "for f in camera_frame_paths:\n",
    "    data = sio.loadmat(f)\n",
    "    frame = data['tmp']\n",
    "    \n",
    "    # scale between 0 and 255\n",
    "    frame = (frame - np.min(frame))\n",
    "    frame = (frame / np.max(frame) * 255).astype('int')\n",
    "    cv2.imwrite('test/frame_{}.jpg'.format(i), frame)\n",
    "#     plt.imshow(frame)\n",
    "#     plt.show()\n",
    "    \n",
    "    i = i + 1"
   ]
  },
  {
   "cell_type": "markdown",
   "metadata": {},
   "source": [
    "## Epid images"
   ]
  },
  {
   "cell_type": "code",
   "execution_count": 26,
   "metadata": {},
   "outputs": [],
   "source": [
    "new_data = []\n",
    "for f in epid_frame_paths:\n",
    "    data = sio.loadmat(f)\n",
    "    frame = data['New']\n",
    "    \n",
    "    # scale between 0 and 255\n",
    "    frame = frame[300:700, 300:700]\n",
    "    frame = cv2.resize(frame, (312, 312))\n",
    "    frame = (frame - np.min(frame))\n",
    "    frame = (frame / np.max(frame) * 255).astype('int')\n",
    "    \n",
    "    new_data.append(frame)\n",
    "    new_data.append(np.flip(frame, 0))\n",
    "    new_data.append(np.flip(frame, 1))\n",
    "    new_data.append(np.rot90(frame, 1))\n",
    "    new_data.append(np.rot90(frame, 2))\n",
    "    new_data.append(np.rot90(frame, 3))\n",
    "    "
   ]
  },
  {
   "cell_type": "code",
   "execution_count": 32,
   "metadata": {},
   "outputs": [],
   "source": [
    "i = 0\n",
    "for frame in new_data:\n",
    "    cv2.imwrite('train/frame_{}.jpg'.format(i), frame)\n",
    "#     plt.imshow(frame)\n",
    "#     print(frame.shape)\n",
    "#     plt.show()\n",
    "    \n",
    "#     print(np.max(frame))\n",
    "    i = i + 1"
   ]
  },
  {
   "cell_type": "markdown",
   "metadata": {},
   "source": [
    "## Camera images"
   ]
  },
  {
   "cell_type": "code",
   "execution_count": null,
   "metadata": {},
   "outputs": [],
   "source": []
  }
 ],
 "metadata": {
  "kernelspec": {
   "display_name": "Python 3",
   "language": "python",
   "name": "python3"
  },
  "language_info": {
   "codemirror_mode": {
    "name": "ipython",
    "version": 3
   },
   "file_extension": ".py",
   "mimetype": "text/x-python",
   "name": "python",
   "nbconvert_exporter": "python",
   "pygments_lexer": "ipython3",
   "version": "3.7.3"
  }
 },
 "nbformat": 4,
 "nbformat_minor": 2
}
