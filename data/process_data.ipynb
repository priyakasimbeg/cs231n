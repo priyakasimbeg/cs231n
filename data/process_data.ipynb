{
 "cells": [
  {
   "cell_type": "code",
   "execution_count": 77,
   "metadata": {},
   "outputs": [],
   "source": [
    "import scipy\n",
    "import os\n",
    "import scipy.io as sio\n",
    "import numpy as np\n",
    "\n",
    "import cv2\n",
    "import matplotlib.pyplot as plt\n",
    "%matplotlib inline"
   ]
  },
  {
   "cell_type": "code",
   "execution_count": 78,
   "metadata": {},
   "outputs": [],
   "source": [
    "# Paths to data\n",
    "camera_path = \"/Volumes/willie/EPID&Camera comparisons/Camera/Matlab\"\n",
    "epid_path = \"/Volumes/willie/EPID&Camera comparisons/EPID/Matlab\""
   ]
  },
  {
   "cell_type": "code",
   "execution_count": 79,
   "metadata": {},
   "outputs": [],
   "source": [
    "camera_frame_names = os.listdir(camera_path)\n",
    "epid_frame_names = os.listdir(epid_path)\n",
    "\n",
    "camera_frame_paths = []\n",
    "epid_frame_paths = []\n",
    "\n",
    "for filename in camera_frame_names:\n",
    "    camera_frame_paths.append(os.path.join(camera_path, filename))\n",
    "\n",
    "for filename in epid_frame_names:\n",
    "    epid_frame_paths.append(os.path.join(epid_path, filename)) "
   ]
  },
  {
   "cell_type": "code",
   "execution_count": 80,
   "metadata": {},
   "outputs": [],
   "source": [
    "camera_frame_numbers = [int(name[:-4]) for name in camera_frame_names]\n",
    "camera_frame_paths_sorted = [c for _,c in sorted(zip(camera_frame_numbers, camera_frame_paths))]\n"
   ]
  },
  {
   "cell_type": "code",
   "execution_count": 81,
   "metadata": {},
   "outputs": [],
   "source": [
    "epid_frame_numbers = [int(name[:-4]) for name in epid_frame_names]\n",
    "epid_frame_paths_sorted = [c for _,c in sorted(zip(epid_frame_numbers, epid_frame_paths))]"
   ]
  },
  {
   "cell_type": "code",
   "execution_count": 82,
   "metadata": {},
   "outputs": [],
   "source": [
    "camera_frame_paths = camera_frame_paths_sorted\n",
    "epid_frame_paths = epid_frame_paths_sorted"
   ]
  },
  {
   "cell_type": "markdown",
   "metadata": {},
   "source": [
    "## Load data "
   ]
  },
  {
   "cell_type": "code",
   "execution_count": 83,
   "metadata": {
    "scrolled": true
   },
   "outputs": [
    {
     "data": {
      "text/plain": [
       "75"
      ]
     },
     "execution_count": 83,
     "metadata": {},
     "output_type": "execute_result"
    }
   ],
   "source": [
    "camera_frames = []\n",
    "epid_frames = []\n",
    "\n",
    "for f in camera_frame_paths:\n",
    "    data = sio.loadmat(f)\n",
    "    frame = data['tmp']\n",
    "    frame = np.rot90(frame, 1)\n",
    "    camera_frames.append(frame)\n",
    "        \n",
    "    \n",
    "for f in epid_frame_paths:\n",
    "    data = sio.loadmat(f)\n",
    "    frame = data['New']\n",
    "    epid_frames.append(frame)\n",
    "    \n",
    "# Cut the stray images from the beginning\n",
    "# epid_frames = epid_frames[len(epid_frames)-len(camera_frames):]\n",
    "\n",
    "len(epid_frames)"
   ]
  },
  {
   "cell_type": "markdown",
   "metadata": {},
   "source": [
    "### Remove extra frames"
   ]
  },
  {
   "cell_type": "code",
   "execution_count": 84,
   "metadata": {
    "scrolled": true
   },
   "outputs": [],
   "source": [
    "extra_frames_epid = [67, 60,56, 51, 45, 46, 43, 38, 37, 34, 28, 27, 22, 19, 16, 12, 11, 8, 7, 6, 5, 4, 3, 2, 1]\n",
    "extra_frames_camera = [1, 2, 3, 4, 5, 6]\n",
    "\n",
    "\n",
    "epid_temp = []\n",
    "camera_temp = []\n",
    "\n",
    "for i in range(0, len(epid_frames)):\n",
    "    if i+1 not in extra_frames_epid:\n",
    "        epid_temp.append(epid_frames[i])\n",
    "        \n",
    "for i in range(0, len(camera_frames)):\n",
    "    if i+1 not in extra_frames_camera:\n",
    "        camera_temp.append(camera_frames[i])\n",
    "        \n",
    "epid_frames = epid_temp\n",
    "camera_frames = camera_temp\n"
   ]
  },
  {
   "cell_type": "markdown",
   "metadata": {},
   "source": [
    "## Augment data"
   ]
  },
  {
   "cell_type": "code",
   "execution_count": 85,
   "metadata": {},
   "outputs": [],
   "source": [
    "## epid frames\n",
    "i = 0\n",
    "new_data_train = []\n",
    "\n",
    "for frame in epid_frames:\n",
    "    frame = frame[300:700, 300:700]\n",
    "    frame = cv2.resize(frame, (312, 312))\n",
    "    \n",
    "    frame = (frame - np.min(frame))\n",
    "    frame = (frame / np.max(frame) * 255).astype('int')\n",
    "    \n",
    "    new_data_train.append(frame)\n",
    "    new_data_train.append(np.flip(frame, 0))\n",
    "    new_data_train.append(np.flip(frame, 1))\n",
    "    new_data_train.append(np.rot90(frame, 1))\n",
    "    new_data_train.append(np.rot90(frame, 2))\n",
    "    new_data_train.append(np.rot90(frame, 3))\n",
    "\n",
    "## camera frames\n",
    "i = 0\n",
    "new_data_noise = []\n",
    "\n",
    "for frame in camera_frames:\n",
    "    frame = (frame - np.min(frame))\n",
    "    frame = (frame / np.max(frame) * 255).astype('int')\n",
    "        \n",
    "    new_data_noise.append(frame)\n",
    "    new_data_noise.append(np.flip(frame, 0))\n",
    "    new_data_noise.append(np.flip(frame, 1))\n",
    "    new_data_noise.append(np.rot90(frame, 1))\n",
    "    new_data_noise.append(np.rot90(frame, 2))\n",
    "    new_data_noise.append(np.rot90(frame, 3))\n",
    "\n",
    "    "
   ]
  },
  {
   "cell_type": "code",
   "execution_count": 87,
   "metadata": {},
   "outputs": [],
   "source": [
    "i = 0\n",
    "j = 0\n",
    "for frame in new_data_train:\n",
    "    cv2.imwrite('train/frame_{}.jpg'.format(i), frame)\n",
    "    i = i + 1\n",
    "    \n",
    "for frame in new_data_noise:\n",
    "    cv2.imwrite('noise/frame_{}.jpg'.format(j), frame)\n",
    "    j = j + 1"
   ]
  },
  {
   "cell_type": "code",
   "execution_count": null,
   "metadata": {},
   "outputs": [],
   "source": []
  }
 ],
 "metadata": {
  "kernelspec": {
   "display_name": "Python 3",
   "language": "python",
   "name": "python3"
  },
  "language_info": {
   "codemirror_mode": {
    "name": "ipython",
    "version": 3
   },
   "file_extension": ".py",
   "mimetype": "text/x-python",
   "name": "python",
   "nbconvert_exporter": "python",
   "pygments_lexer": "ipython3",
   "version": "3.6.5"
  }
 },
 "nbformat": 4,
 "nbformat_minor": 2
}
